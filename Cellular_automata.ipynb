{
 "cells": [
  {
   "cell_type": "code",
   "execution_count": 396,
   "id": "07f65410",
   "metadata": {},
   "outputs": [],
   "source": [
    "import numpy as np\n",
    "import matplotlib.pyplot as plt\n",
    "import math\n",
    "from bitarray import bitarray\n",
    "\n",
    "ruleNr = 170\n",
    "layerWidth = 50\n",
    "generations = 100\n",
    "startingPoint = 'center'\n",
    "propagationStyle = 'impulse'\n",
    "\n",
    "def oldApproach(curLayer, ruleBinary):\n",
    "    return ruleBinary[\n",
    "        7 - np.sum(\n",
    "            np.vstack((\n",
    "                np.roll(curLayer, 1)*4,\n",
    "                curLayer*2,\n",
    "                np.roll(curLayer, -1)\n",
    "            )),\n",
    "            axis=0\n",
    "        )\n",
    "    ]\n",
    "\n",
    "def nextLayer(curLayer, ruleBinary):\n",
    "    output = np.array([0 for i in range(len(curLayer))])\n",
    "    array = 7 - np.sum(np.vstack((np.roll(curLayer, 1)*4,curLayer*2,np.roll(curLayer, -1))), axis=0)\n",
    "    for i in range(len(array)):\n",
    "        if ruleBinary[array[i]] == 1:\n",
    "            output[i] = 1\n",
    "        else:\n",
    "            output[i] = 0\n",
    "    \n",
    "    return output\n",
    "\n",
    "def nextLayer2(curLayer, ruleBinary):\n",
    "    output = np.array([0 for i in range(len(curLayer))])\n",
    "    array = 31 - np.sum(np.vstack((np.roll(curLayer, 2)*16, np.roll(curLayer, 1)*8, \n",
    "                                   curLayer*4, np.roll(curLayer, -1)*2, np.roll(curLayer, -2))), axis=0)\n",
    "    for i in range(len(array)):\n",
    "        if ruleBinary[array[i]] == 1:\n",
    "            output[i] = 1\n",
    "        else:\n",
    "            output[i] = 0\n",
    "    \n",
    "    return output\n",
    "\n",
    "def nextLayer3(curLayer, ruleBinary):\n",
    "    output = np.array([0 for i in range(len(curLayer))])\n",
    "    array = 127 - np.sum(np.vstack((np.roll(curLayer, 3)*64, np.roll(curLayer, 2)*32, \n",
    "                                    np.roll(curLayer, 1)*16, curLayer*8, np.roll(curLayer, -1)*4, \n",
    "                                    np.roll(curLayer, -2)*2, np.roll(curLayer, -3))), axis=0)\n",
    "    for i in range(len(array)):\n",
    "        if ruleBinary[array[i]] == 1:\n",
    "            output[i] = 1\n",
    "        else:\n",
    "            output[i] = 0\n",
    "    \n",
    "    return output"
   ]
  },
  {
   "cell_type": "code",
   "execution_count": 397,
   "id": "28e8be3e",
   "metadata": {},
   "outputs": [],
   "source": [
    "ruleNrError = \"rule number should be an integer from 0 to 255 inclusive\"\n",
    "layerWidthError = \"layer width should be an integer from 10 to 200 inclusive\"\n",
    "generationsError = \"number of generations should be an integer from 1 to 10000 inclusive\"\n",
    "startingPointError = \"starting point should be set to 'left', 'right' or 'center'\"\n",
    "propagationStartError = \"propagation style should be set to 'impulse' or 'random'\"\n",
    "langtonError = \"rule number should be an integer from 0 to 4294967295 inclusive\""
   ]
  },
  {
   "cell_type": "code",
   "execution_count": 398,
   "id": "42ea57cd",
   "metadata": {},
   "outputs": [],
   "source": [
    "def simulate(ruleNr, layerWidth, generations, startingPoint, propagationStyle, radius):\n",
    "#     assert 0 <= ruleNr <= 255, ruleNrError\n",
    "    assert 10 <= layerWidth <= 200, layerWidthError\n",
    "    assert 1 <= generations <= 10000, generationsError\n",
    "    assert startingPoint in ['left', 'right', 'center'], startingPointError\n",
    "    assert propagationStyle in ['impulse', 'random'], propagationStartError\n",
    "    \n",
    "    if radius == 1:\n",
    "        ruleBinary = np.array([int(digit) for digit in '{:08b}'.format(ruleNr)])\n",
    "    elif radius == 2:\n",
    "        ruleBinary = np.array([0 for i in range(32)])\n",
    "        value = '{:32b}'.format(30)\n",
    "        for i in range(len(ruleBinary)):\n",
    "            if value[i] == \" \" or value[i] == \"0\":\n",
    "                ruleBinary[i] = 0\n",
    "            else:\n",
    "                ruleBinary[i] = 1\n",
    "\n",
    "    propagationField = np.zeros([generations, layerWidth], dtype=np.int8)\n",
    "    \n",
    "    if propagationStyle == 'random':\n",
    "        propagationField[0, :] = np.array(np.random.rand(layerWidth) < 0.5, dtype=np.int8)\n",
    "    else:\n",
    "        if startingPoint == 'left':\n",
    "            propagationField[0, 0] = 1\n",
    "        elif startingPoint == 'right':\n",
    "            propagationField[0, layerWidth - 1] = 1\n",
    "        else:\n",
    "            propagationField[0, layerWidth//2] = 1\n",
    "        \n",
    "    for i in range(generations - 1):\n",
    "        if radius == 1:\n",
    "            propagationField[i + 1, :] = nextLayer1(propagationField[i, :], ruleBinary)\n",
    "        elif radius == 2:\n",
    "            propagationField[i + 1, :] = nextLayer2(propagationField[i, :], ruleBinary)\n",
    "        elif radius == 3:\n",
    "            propagationField[i + 1, :] = nextLayer3(propagationField[i, :], ruleBinary)\n",
    "    \n",
    "    return propagationField"
   ]
  },
  {
   "cell_type": "code",
   "execution_count": 399,
   "id": "5a545b76",
   "metadata": {},
   "outputs": [],
   "source": [
    "propagationField = simulate(ruleNr, layerWidth, generations, startingPoint, propagationStyle, 1)"
   ]
  },
  {
   "cell_type": "code",
   "execution_count": 400,
   "id": "89423a3f",
   "metadata": {},
   "outputs": [],
   "source": [
    "def getEntropy(radius, rule_book):\n",
    "    propagationField = simulate(ruleNr, layerWidth, 200, startingPoint, propagationStyle, 1)\n",
    "    nrOfOnes = sum(sum(propagationField[100:200, :]))\n",
    "    nrOfZeros = 100*layerWidth - nrOfOnes\n",
    "    onesProb = nrOfOnes/(100*layerWidth)\n",
    "    zerosProb = 1 - onesProb\n",
    "    if onesProb == 0 or onesProb == 1:\n",
    "        return 0\n",
    "    return -(nrOfOnes*onesProb*math.log2(onesProb) + nrOfZeros*zerosProb*math.log2(zerosProb))/(layerWidth*10)"
   ]
  },
  {
   "cell_type": "code",
   "execution_count": 401,
   "id": "f6090b73",
   "metadata": {},
   "outputs": [],
   "source": [
    "def getLangton(radius, rule_book):\n",
    "    assert 0 <= rule_book <= 4294967296, langtonError\n",
    "    result = 0\n",
    "    if rule_book < 256:\n",
    "        return sum(np.array([int(digit) for digit in '{:08b}'.format(ruleNr)]))/8\n",
    "    else:\n",
    "        for i in '{:32b}'.format(rule_book):\n",
    "            if i == '1':\n",
    "                result += 1\n",
    "        return result/32"
   ]
  },
  {
   "cell_type": "code",
   "execution_count": 402,
   "id": "4669e5f9",
   "metadata": {
    "scrolled": false
   },
   "outputs": [
    {
     "name": "stdout",
     "output_type": "stream",
     "text": [
      "0.5\n",
      "0.3024969284730954\n"
     ]
    },
    {
     "data": {
      "text/plain": [
       "<matplotlib.image.AxesImage at 0x7f97481217c0>"
      ]
     },
     "execution_count": 402,
     "metadata": {},
     "output_type": "execute_result"
    },
    {
     "data": {
      "image/png": "[encoded data removed]",
      "text/plain": [
       "<Figure size 720x720 with 1 Axes>"
      ]
     },
     "metadata": {
      "needs_background": "light"
     },
     "output_type": "display_data"
    }
   ],
   "source": [
    "print(getLangton(1, 110))\n",
    "print(getEntropy(1, 110))\n",
    "fig = plt.figure(figsize=(10, 10))\n",
    "ax = plt.axes()\n",
    "ax.set_axis_off()\n",
    "ax.imshow(propagationField, interpolation='none', cmap='RdPu')"
   ]
  },
  {
   "cell_type": "code",
   "execution_count": 403,
   "id": "87887467",
   "metadata": {},
   "outputs": [
    {
     "name": "stdout",
     "output_type": "stream",
     "text": [
      "{'1 0 1 0 1': 4, '0 1 0 1 0': 4}\n",
      "2\n",
      "8\n",
      "8.0\n"
     ]
    }
   ],
   "source": [
    "def returnString(array):\n",
    "    arr = list(array.flatten())\n",
    "    strings = [str(x) for x in arr] \n",
    "    \n",
    "    return ' '.join(strings)\n",
    "\n",
    "def sumEntropy(line):\n",
    "    struct = {}\n",
    "    lineSize = line.size\n",
    "    key = returnString(line[0:5])\n",
    "    struct[key] = 1\n",
    "    \n",
    "    for i in range(lineSize - 1):\n",
    "        line = np.roll(line, -1)\n",
    "        key = returnString(line[0:5])\n",
    "        if not key in struct:\n",
    "            struct[key] = 1\n",
    "        else: struct[key] += 1\n",
    "            \n",
    "    print(struct)\n",
    "    print(len(struct))\n",
    "    sum = 0\n",
    "    for val in struct.values():\n",
    "        sum += val\n",
    "    print(sum)\n",
    "    difKeys = len(struct)\n",
    "    entropy = 0\n",
    "    for key in struct:\n",
    "        entropy += struct[key]*math.log(struct[key]/lineSize, 2)\n",
    "        \n",
    "    return -entropy\n",
    "\n",
    "ruleBinary = np.array([int(digit) for digit in '{:08b}'.format(ruleNr)])\n",
    "\n",
    "def newEntropy():\n",
    "    lastLine = propagationField[propagationField.shape[0] - 1, :]\n",
    "    return sumEntropy(ruleBinary)\n",
    "\n",
    "ent = newEntropy()\n",
    "print(ent)"
   ]
  },
  {
   "cell_type": "code",
   "execution_count": null,
   "id": "685a76e8",
   "metadata": {},
   "outputs": [],
   "source": []
  }
 ],
 "metadata": {
  "kernelspec": {
   "display_name": "Python 3 (ipykernel)",
   "language": "python",
   "name": "python3"
  },
  "language_info": {
   "codemirror_mode": {
    "name": "ipython",
    "version": 3
   },
   "file_extension": ".py",
   "mimetype": "text/x-python",
   "name": "python",
   "nbconvert_exporter": "python",
   "pygments_lexer": "ipython3",
   "version": "3.9.12"
  }
 },
 "nbformat": 4,
 "nbformat_minor": 5
}
